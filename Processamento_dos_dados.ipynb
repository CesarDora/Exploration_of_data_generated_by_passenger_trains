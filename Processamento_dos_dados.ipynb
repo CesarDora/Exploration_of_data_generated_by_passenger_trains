{
  "nbformat": 4,
  "nbformat_minor": 0,
  "metadata": {
    "colab": {
      "provenance": [],
      "include_colab_link": true
    },
    "kernelspec": {
      "name": "python3",
      "display_name": "Python 3"
    },
    "language_info": {
      "name": "python"
    }
  },
  "cells": [
    {
      "cell_type": "markdown",
      "metadata": {
        "id": "view-in-github",
        "colab_type": "text"
      },
      "source": [
        "<a href=\"https://colab.research.google.com/github/CesarDora/Exploration_of_data_generated_by_passenger_trains/blob/main/Processamento_dos_dados.ipynb\" target=\"_parent\"><img src=\"https://colab.research.google.com/assets/colab-badge.svg\" alt=\"Open In Colab\"/></a>"
      ]
    },
    {
      "cell_type": "code",
      "source": [
        "import pandas as pd\n",
        "import os\n",
        "import matplotlib.pyplot as plt\n",
        "import ipywidgets as widgets\n",
        "from IPython.display import display\n",
        "from ipywidgets import interact\n",
        "import numpy as np\n",
        "\n",
        "#configura google colab pra ler arquivos no drive\n",
        "from google.colab import drive\n",
        "\n",
        "drive.mount('/content/gdrive', force_remount=True)"
      ],
      "metadata": {
        "id": "4ZC_WdyApR91",
        "colab": {
          "base_uri": "https://localhost:8080/"
        },
        "outputId": "4434ef73-915b-4ec7-fbc2-51e199e91221"
      },
      "execution_count": null,
      "outputs": [
        {
          "output_type": "stream",
          "name": "stdout",
          "text": [
            "Mounted at /content/gdrive\n"
          ]
        }
      ]
    },
    {
      "cell_type": "code",
      "source": [
        "from datetime import datetime\n",
        "import pytz\n",
        "import pandas as pd\n",
        "import numpy as np\n",
        "import os\n",
        "\n",
        "local_timezone = pytz.timezone('America/Sao_Paulo')  # Substitua pelo seu fuso horário, se necessário.\n",
        "\n",
        "#_____________________________________ Função principal\n",
        "\n",
        "def minha_funcao(df):\n",
        "    # Calculando a velocidade, garantindo que seja 0 caso menor que 0\n",
        "    df['speed (km/h)'] = df['speed (km/h)'].apply(lambda x: 0 if x > 0 else x)\n",
        "\n",
        "    # Calculando a quantidade de pessoas, garantindo que seja 0 caso menor que 0\n",
        "    df['pessoas'] = ((df['train_weight (kg)'] - 361790) / 76).round().astype(int)\n",
        "    df['pessoas'] = df['pessoas'].apply(lambda x: max(x, 0))  # Forçando 0 caso seja menor que 0\n",
        "\n",
        "    # Calculando o carregamento em %, garantindo que seja 0 caso menor que 0\n",
        "    df['carregamento %'] = ((df['pessoas'] / 2600) * 100).round().astype(int)\n",
        "    df['carregamento %'] = df['carregamento %'].apply(lambda x: max(x, 0))\n",
        "\n",
        "    # Garantindo que a coluna 'head_car_relay' seja do tipo booleano\n",
        "    df['head_car_relay'] = df['head_car_relay'].astype(bool)\n",
        "\n",
        "    # Criando coluna 'Velocidade_Media' com valores iniciais como NaN\n",
        "    df['Velocidade_Media'] = np.nan\n",
        "\n",
        "    # Loop para calcular a velocidade média entre as linhas consecutivas\n",
        "    for i in range(len(df)):\n",
        "        if i == 0:\n",
        "            velocidade_media = 0.0\n",
        "        else:\n",
        "            tempo_anterior = df.at[i - 1, 'datetime']\n",
        "            tempo_portas = df.at[i - 1, 'Portas_abertas']\n",
        "            tempo_atual = df.at[i, 'datetime']\n",
        "            diferenca_tempo = (tempo_atual - tempo_anterior).total_seconds()\n",
        "            diferenca_tempo -= tempo_portas\n",
        "            distancia_atual = df.at[i, 'distance (km)']\n",
        "            distancia_anterior = df.at[i - 1, 'distance (km)']\n",
        "            velocidade_media = round((distancia_atual - distancia_anterior) / diferenca_tempo * 3600)\n",
        "\n",
        "            if abs(distancia_atual - distancia_anterior) > 8:\n",
        "              velocidade_media = 0\n",
        "\n",
        "        df.at[i, 'Velocidade_Media'] = max(velocidade_media, 0)  # Forçando 0 caso seja menor que 0\n",
        "\n",
        "    df.at[len(df) - 1, 'Velocidade_Media'] = 0.0\n",
        "\n",
        "    # Dividindo o DataFrame em dois com base na coluna 'head_car_relay'\n",
        "    df_true = df[df['head_car_relay'] == True].copy()\n",
        "    df_false = df[df['head_car_relay'] == False].copy()\n",
        "\n",
        "\n",
        "    # Salvando os arquivos com base na data e hora\n",
        "    data_hora_atual = datetime.now(local_timezone)\n",
        "    nome_arquivo = data_hora_atual.strftime(\"%Y-%m-%d-%H-%M-%S\")\n",
        "    df_true.to_excel(f\"/content/gdrive/My Drive/teste dissertacao/automatico/Consolidado/Graficos/Sentido A {nome_arquivo}.xlsx\", index=False)\n",
        "    df_false.to_excel(f\"/content/gdrive/My Drive/teste dissertacao/automatico/Consolidado/Graficos/Sentido B {nome_arquivo}.xlsx\", index=False)\n",
        "    df.to_excel(f\"/content/gdrive/My Drive/teste dissertacao/automatico/Consolidado/Graficos/Sentido Original {nome_arquivo}.xlsx\", index=False)\n",
        "\n",
        "    return df_true, df_false, df\n",
        "\n",
        "#_____________________________________ Onde roda meu código para todos os arquivos da pasta e chama a função\n",
        "\n",
        "dir = \"/content/gdrive/My Drive/teste dissertacao/automatico/Consolidado\"\n",
        "arquivos = os.listdir(dir)\n",
        "\n",
        "for arquivo in arquivos:\n",
        "    if arquivo.endswith('.xls') or arquivo.endswith('.xlsx'):\n",
        "        caminho_arquivo = os.path.join(dir, arquivo)\n",
        "        df = pd.read_excel(caminho_arquivo)\n",
        "        df_true, df_false, df_original = minha_funcao(df)"
      ],
      "metadata": {
        "id": "UDdsIhpIPBdf"
      },
      "execution_count": null,
      "outputs": []
    }
  ]
}