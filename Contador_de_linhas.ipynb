{
  "nbformat": 4,
  "nbformat_minor": 0,
  "metadata": {
    "colab": {
      "provenance": [],
      "authorship_tag": "ABX9TyPdMU/Wp8Nda+hARWaG147Z",
      "include_colab_link": true
    },
    "kernelspec": {
      "name": "python3",
      "display_name": "Python 3"
    },
    "language_info": {
      "name": "python"
    }
  },
  "cells": [
    {
      "cell_type": "markdown",
      "metadata": {
        "id": "view-in-github",
        "colab_type": "text"
      },
      "source": [
        "<a href=\"https://colab.research.google.com/github/CesarDora/Exploration_of_data_generated_by_passenger_trains/blob/main/Contador_de_linhas.ipynb\" target=\"_parent\"><img src=\"https://colab.research.google.com/assets/colab-badge.svg\" alt=\"Open In Colab\"/></a>"
      ]
    },
    {
      "cell_type": "code",
      "execution_count": null,
      "metadata": {
        "colab": {
          "base_uri": "https://localhost:8080/"
        },
        "id": "UoTap6Ggvo2X",
        "outputId": "b4105709-ce96-41fe-a61d-b208c97153fb"
      },
      "outputs": [
        {
          "output_type": "stream",
          "name": "stdout",
          "text": [
            "Mounted at /content/gdrive\n",
            "Total de arquivos lidos: 36\n",
            "Total de linhas de dados em todas as planilhas: 5053582\n"
          ]
        }
      ],
      "source": [
        "import os\n",
        "import pandas as pd\n",
        "from google.colab import drive\n",
        "\n",
        "drive.mount('/content/gdrive', force_remount=True)\n",
        "\n",
        "diretorio = \"/content/gdrive/My Drive/teste dissertacao/Base_automatica\"\n",
        "arquivos = [f for f in os.listdir(diretorio) if f.endswith(('.xls', '.xlsx'))]\n",
        "\n",
        "total_linhas = 0\n",
        "total_arquivos = len(arquivos)\n",
        "\n",
        "for arquivo in arquivos:\n",
        "    caminho_arquivo = os.path.join(diretorio, arquivo)\n",
        "    abas = pd.read_excel(caminho_arquivo, sheet_name=None)\n",
        "\n",
        "    for df in abas.values():\n",
        "        total_linhas += len(df)\n",
        "\n",
        "print(f\"Total de arquivos lidos: {total_arquivos}\")\n",
        "print(f\"Total de linhas de dados em todas as planilhas: {total_linhas}\")"
      ]
    }
  ]
}